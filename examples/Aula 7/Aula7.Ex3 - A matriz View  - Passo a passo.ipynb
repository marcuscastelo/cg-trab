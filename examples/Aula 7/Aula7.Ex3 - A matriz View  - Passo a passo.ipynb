{
 "cells": [
  {
   "cell_type": "markdown",
   "metadata": {},
   "source": [
    "# Aula7.Ex3 - A matriz View - Passo a passo"
   ]
  },
  {
   "cell_type": "markdown",
   "metadata": {},
   "source": [
    "### Primeiro, importamos as bibliotecas necessárias.\n",
    "Verifique no código anterior um script para instalar as dependências necessárias (OpenGL e GLFW) antes de prosseguir."
   ]
  },
  {
   "cell_type": "code",
   "execution_count": null,
   "metadata": {},
   "outputs": [],
   "source": [
    "import numpy as np\n",
    "import glm\n",
    "import math"
   ]
  },
  {
   "cell_type": "markdown",
   "metadata": {},
   "source": [
    "## Calculando Matriz View"
   ]
  },
  {
   "cell_type": "code",
   "execution_count": null,
   "metadata": {},
   "outputs": [],
   "source": [
    "cameraPos = np.array([0.0, 0.0, 0.2])\n",
    "cameraTarget = np.array([0.0, 0.0, 0.0])\n",
    "cameraUp = np.array([0.0, 1.0, 1.0])\n",
    "\n",
    "n = cameraPos-cameraTarget\n",
    "n = n / np.linalg.norm(n)\n",
    "n"
   ]
  },
  {
   "cell_type": "code",
   "execution_count": null,
   "metadata": {},
   "outputs": [],
   "source": [
    "u = np.cross(cameraUp, n)\n",
    "u = u / np.linalg.norm(u)\n",
    "u"
   ]
  },
  {
   "cell_type": "code",
   "execution_count": null,
   "metadata": {},
   "outputs": [],
   "source": [
    "v = np.cross(n, u)\n",
    "v"
   ]
  },
  {
   "cell_type": "code",
   "execution_count": null,
   "metadata": {},
   "outputs": [],
   "source": [
    "R = [\n",
    "        [u[0], u[1], u[2], 0.0],\n",
    "        [v[0], v[1], v[2], 0.0],\n",
    "        [n[0], n[1], n[2], 0.0],\n",
    "        [ 0.0,  0.0,  0.0, 1.0]\n",
    "    ]\n",
    "\n",
    "T = [\n",
    "        [1.0, 0.0, 0.0, -cameraPos[0]],\n",
    "        [0.0, 1.0, 0.0, -cameraPos[1]],\n",
    "        [0.0, 0.0, 1.0, -cameraPos[2]],\n",
    "        [0.0, 0.0, 0.0, 1.0          ],        \n",
    "    ]\n",
    "\n",
    "view = np.matmul(T,R)\n",
    "view"
   ]
  },
  {
   "cell_type": "markdown",
   "metadata": {},
   "source": [
    "## Calculando Matriz View com GLM"
   ]
  },
  {
   "cell_type": "code",
   "execution_count": null,
   "metadata": {},
   "outputs": [],
   "source": [
    "cameraPos = glm.vec3(0.0, 0.0, 0.2)\n",
    "cameraTarget = glm.vec3(0.0, 0.0, -1.0)\n",
    "cameraUp = glm.vec3(0.0, 0.00001, 1.0000)\n",
    "\n",
    "view = glm.lookAt(cameraPos, cameraTarget, cameraUp)\n",
    "np.array(view)"
   ]
  }
 ],
 "metadata": {
  "finalized": {
   "timestamp": 1583114796072,
   "trusted": true
  },
  "kernelspec": {
   "display_name": "Python 3.9.6 64-bit ('cg_venv')",
   "language": "python",
   "name": "python3"
  },
  "language_info": {
   "codemirror_mode": {
    "name": "ipython",
    "version": 3
   },
   "file_extension": ".py",
   "mimetype": "text/x-python",
   "name": "python",
   "nbconvert_exporter": "python",
   "pygments_lexer": "ipython3",
   "version": "3.9.6"
  },
  "vscode": {
   "interpreter": {
    "hash": "a0948997e39dfef6f0769e327b422dfbdee86dddb835d1876587d2701936ee80"
   }
  }
 },
 "nbformat": 4,
 "nbformat_minor": 2
}
